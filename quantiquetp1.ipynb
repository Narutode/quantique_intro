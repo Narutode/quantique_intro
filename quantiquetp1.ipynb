{
 "cells": [
  {
   "cell_type": "code",
   "execution_count": 2,
   "id": "0986cc1f",
   "metadata": {},
   "outputs": [],
   "source": [
    "import numpy as np"
   ]
  },
  {
   "cell_type": "code",
   "execution_count": 3,
   "id": "8d1edac5",
   "metadata": {},
   "outputs": [],
   "source": [
    "from qiskit import *"
   ]
  },
  {
   "cell_type": "code",
   "execution_count": 4,
   "id": "0edcdb58",
   "metadata": {},
   "outputs": [],
   "source": [
    "circ = QuantumCircuit(3)"
   ]
  },
  {
   "cell_type": "code",
   "execution_count": null,
   "id": "915f76fb",
   "metadata": {},
   "outputs": [],
   "source": [
    "circ.h(0)"
   ]
  },
  {
   "cell_type": "code",
   "execution_count": null,
   "id": "1d0d55d7",
   "metadata": {},
   "outputs": [],
   "source": [
    "circ.cx(0,1)"
   ]
  },
  {
   "cell_type": "code",
   "execution_count": null,
   "id": "cd57dc07",
   "metadata": {},
   "outputs": [],
   "source": [
    "circ.h(2)"
   ]
  },
  {
   "cell_type": "code",
   "execution_count": null,
   "id": "ab2b3c65",
   "metadata": {},
   "outputs": [],
   "source": [
    "circ.cx(2,1)"
   ]
  },
  {
   "cell_type": "code",
   "execution_count": null,
   "id": "4d0a0f4e",
   "metadata": {},
   "outputs": [],
   "source": [
    "circ.x(2)"
   ]
  },
  {
   "cell_type": "code",
   "execution_count": null,
   "id": "ba77cfec",
   "metadata": {},
   "outputs": [],
   "source": [
    "circ.cx(2,0)"
   ]
  },
  {
   "cell_type": "code",
   "execution_count": null,
   "id": "543e7dde",
   "metadata": {},
   "outputs": [],
   "source": [
    "circ.x(2)"
   ]
  },
  {
   "cell_type": "code",
   "execution_count": null,
   "id": "5cb67c77",
   "metadata": {},
   "outputs": [],
   "source": [
    "circ.swap(0,1)"
   ]
  },
  {
   "cell_type": "code",
   "execution_count": null,
   "id": "553740d0",
   "metadata": {},
   "outputs": [],
   "source": [
    "circ.x(1)"
   ]
  },
  {
   "cell_type": "code",
   "execution_count": null,
   "id": "05afcf85",
   "metadata": {},
   "outputs": [],
   "source": [
    "circ.cx(2,1)"
   ]
  },
  {
   "cell_type": "code",
   "execution_count": null,
   "id": "a6d17db9",
   "metadata": {},
   "outputs": [],
   "source": [
    "circ.x(2)"
   ]
  },
  {
   "cell_type": "code",
   "execution_count": null,
   "id": "4b86aa39",
   "metadata": {},
   "outputs": [],
   "source": [
    "circ.cx(2,0)"
   ]
  },
  {
   "cell_type": "code",
   "execution_count": null,
   "id": "b4c17d33",
   "metadata": {},
   "outputs": [],
   "source": [
    "circ.x(2)"
   ]
  },
  {
   "cell_type": "code",
   "execution_count": null,
   "id": "860cb208",
   "metadata": {},
   "outputs": [],
   "source": [
    "circ.draw('mpl')"
   ]
  }
 ],
 "metadata": {
  "kernelspec": {
   "display_name": "Python 3 (ipykernel)",
   "language": "python",
   "name": "python3"
  },
  "language_info": {
   "codemirror_mode": {
    "name": "ipython",
    "version": 3
   },
   "file_extension": ".py",
   "mimetype": "text/x-python",
   "name": "python",
   "nbconvert_exporter": "python",
   "pygments_lexer": "ipython3",
   "version": "3.11.4"
  }
 },
 "nbformat": 4,
 "nbformat_minor": 5
}
